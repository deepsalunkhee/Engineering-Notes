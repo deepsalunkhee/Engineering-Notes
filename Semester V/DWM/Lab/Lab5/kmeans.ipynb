{
 "cells": [
  {
   "cell_type": "code",
   "execution_count": 5,
   "id": "b9765db4",
   "metadata": {},
   "outputs": [],
   "source": [
    "import math\n",
    "\n",
    "# Define a function to calculate the Manhattan distance between two points\n",
    "def mh(x, y):\n",
    "    return abs(x - y)"
   ]
  },
  {
   "cell_type": "code",
   "execution_count": 8,
   "id": "0c7eadb2",
   "metadata": {},
   "outputs": [],
   "source": [
    "# Data points to cluster\n",
    "data = [22, 9, 12, 15, 10, 27, 35, 18, 36, 11]\n",
    "\n",
    "# Number of clusters\n",
    "k = 3\n",
    "\n",
    "# Lists to store cluster points and centroids at each iteration\n",
    "all_clusters = []\n",
    "all_centroids = []\n",
    "\n",
    "# Initialize cluster centroids\n",
    "c = [22, 9, 12]"
   ]
  },
  {
   "cell_type": "code",
   "execution_count": 9,
   "id": "ad1e89ea",
   "metadata": {},
   "outputs": [
    {
     "name": "stdout",
     "output_type": "stream",
     "text": [
      "Iteration 1\n",
      "Clusters: [[22, 27, 35, 18, 36], [9, 10], [12, 15, 11]]\n",
      "Centroids: [27.6, 9.5, 12.666666666666666]\n",
      "\n",
      "Iteration 2\n",
      "Clusters: [[22, 27, 35, 36], [9, 10, 11], [12, 15, 18]]\n",
      "Centroids: [30.0, 10.0, 15.0]\n",
      "\n",
      "Iteration 3\n",
      "Clusters: [[27, 35, 36], [9, 12, 10, 11], [22, 15, 18]]\n",
      "Centroids: [32.666666666666664, 10.5, 18.333333333333332]\n",
      "\n",
      "Iteration 4\n",
      "Clusters: [[27, 35, 36], [9, 12, 10, 11], [22, 15, 18]]\n",
      "Centroids: [32.666666666666664, 10.5, 18.333333333333332]\n",
      "\n",
      "Final Clusters: [[27, 35, 36], [9, 12, 10, 11], [22, 15, 18]]\n",
      "Final Centroids: [32.666666666666664, 10.5, 18.333333333333332]\n"
     ]
    }
   ],
   "source": [
    "# Main loop to perform k-means clustering\n",
    "while True:\n",
    "    # Store the current clusters\n",
    "    current_clusters = [[] for _ in range(k)]\n",
    "    \n",
    "    # Assign each data point to the nearest cluster based on Manhattan distance\n",
    "    for i in data:\n",
    "        mini = 100000\n",
    "        for j in c:\n",
    "            if mh(i, j) < mini:\n",
    "                mini = mh(i, j)\n",
    "                temp = j\n",
    "        current_clusters[c.index(temp)].append(i)\n",
    "\n",
    "    # Recalculate centroids as the mean of each cluster\n",
    "    current_centroids = [sum(cluster) / len(cluster) for cluster in current_clusters]\n",
    "\n",
    "    # Store current clusters and centroids\n",
    "    all_clusters.append(current_clusters)\n",
    "    all_centroids.append(current_centroids)\n",
    "\n",
    "    # If the centroids haven't changed, exit the loop\n",
    "    if c == current_centroids:\n",
    "        break\n",
    "\n",
    "    # Update centroids for the next iteration\n",
    "    c = current_centroids\n",
    "\n",
    "# Print all clusters and centroids at each iteration\n",
    "for i, (clusters, centroids) in enumerate(zip(all_clusters, all_centroids)):\n",
    "    print(f\"Iteration {i + 1}\")\n",
    "    print(\"Clusters:\", clusters)\n",
    "    print(\"Centroids:\", centroids)\n",
    "    print()\n",
    "\n",
    "# Print the final clusters and centroids\n",
    "print(\"Final Clusters:\", all_clusters[-1])\n",
    "print(\"Final Centroids:\", all_centroids[-1])"
   ]
  },
  {
   "cell_type": "code",
   "execution_count": null,
   "id": "e2c8fe7f",
   "metadata": {},
   "outputs": [],
   "source": []
  }
 ],
 "metadata": {
  "kernelspec": {
   "display_name": "Python 3 (ipykernel)",
   "language": "python",
   "name": "python3"
  },
  "language_info": {
   "codemirror_mode": {
    "name": "ipython",
    "version": 3
   },
   "file_extension": ".py",
   "mimetype": "text/x-python",
   "name": "python",
   "nbconvert_exporter": "python",
   "pygments_lexer": "ipython3",
   "version": "3.11.4"
  }
 },
 "nbformat": 4,
 "nbformat_minor": 5
}
