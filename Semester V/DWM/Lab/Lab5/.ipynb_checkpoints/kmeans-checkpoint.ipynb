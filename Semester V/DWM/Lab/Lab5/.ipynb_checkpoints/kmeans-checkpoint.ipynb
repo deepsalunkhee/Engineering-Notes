{
 "cells": [
  {
   "cell_type": "code",
   "execution_count": 32,
   "id": "b9765db4",
   "metadata": {},
   "outputs": [],
   "source": [
    "import math\n",
    "\n",
    "def mh(x, y):\n",
    "    return abs(x - y)"
   ]
  },
  {
   "cell_type": "code",
   "execution_count": 33,
   "id": "0c7eadb2",
   "metadata": {},
   "outputs": [
    {
     "data": {
      "text/plain": [
       "[[], [], []]"
      ]
     },
     "execution_count": 33,
     "metadata": {},
     "output_type": "execute_result"
    }
   ],
   "source": [
    "data = [22, 9, 12, 15, 10, 27, 35, 18, 36, 11]\n",
    "\n",
    "k = 3\n",
    "\n",
    "p = []\n",
    "c = [22, 9, 12]\n",
    "\n",
    "cluster = []\n",
    "\n",
    "for i in range(k):\n",
    "    cluster.append([])\n",
    "    \n",
    "cluster\n",
    "\n"
   ]
  },
  {
   "cell_type": "code",
   "execution_count": 34,
   "id": "ee0c5a9b",
   "metadata": {},
   "outputs": [
    {
     "data": {
      "text/plain": [
       "[[22, 27, 35, 18, 36], [9, 10], [12, 15, 11]]"
      ]
     },
     "execution_count": 34,
     "metadata": {},
     "output_type": "execute_result"
    }
   ],
   "source": [
    "for i in data:\n",
    "    mini = 100000\n",
    "    for j in c:\n",
    "        if mh(i, j) < mini:\n",
    "            mini = mh(i, j)\n",
    "            temp = j\n",
    "    cluster[c.index(temp)].append(i)\n",
    "    \n",
    "cluster"
   ]
  },
  {
   "cell_type": "code",
   "execution_count": 39,
   "id": "ad1e89ea",
   "metadata": {},
   "outputs": [
    {
     "name": "stdout",
     "output_type": "stream",
     "text": [
      "[[27, 35, 36], [9, 12, 10, 11], [22, 15, 18]] [32.666666666666664, 10.5, 18.333333333333332]\n"
     ]
    }
   ],
   "source": [
    "while True:\n",
    "    p = c\n",
    "    c = []\n",
    "    \n",
    "    for test in cluster:\n",
    "        c.append(sum(test) / len(test))\n",
    "        cluster[cluster.index(test)] = []\n",
    "        \n",
    "    for i in data:\n",
    "        mini = 100000\n",
    "        for j in c:\n",
    "            if mh(i, j) < mini:\n",
    "                mini = mh(i, j)\n",
    "                temp = j\n",
    "        cluster[c.index(temp)].append(i)\n",
    "    \n",
    "#     print(p, c)\n",
    "    if p == c:\n",
    "        break\n",
    "        \n",
    "print(cluster, c)"
   ]
  },
  {
   "cell_type": "code",
   "execution_count": null,
   "id": "e2c8fe7f",
   "metadata": {},
   "outputs": [],
   "source": []
  }
 ],
 "metadata": {
  "kernelspec": {
   "display_name": "Python 3 (ipykernel)",
   "language": "python",
   "name": "python3"
  },
  "language_info": {
   "codemirror_mode": {
    "name": "ipython",
    "version": 3
   },
   "file_extension": ".py",
   "mimetype": "text/x-python",
   "name": "python",
   "nbconvert_exporter": "python",
   "pygments_lexer": "ipython3",
   "version": "3.9.12"
  }
 },
 "nbformat": 4,
 "nbformat_minor": 5
}
