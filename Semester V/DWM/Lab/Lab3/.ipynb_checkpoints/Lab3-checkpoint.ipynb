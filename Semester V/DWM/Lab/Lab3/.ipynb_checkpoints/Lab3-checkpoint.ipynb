{
 "cells": [
  {
   "cell_type": "code",
   "execution_count": 34,
   "id": "b2724010",
   "metadata": {},
   "outputs": [],
   "source": [
    "import pandas as pd\n",
    "import math\n"
   ]
  },
  {
   "cell_type": "code",
   "execution_count": 35,
   "id": "fe268c28",
   "metadata": {},
   "outputs": [
    {
     "data": {
      "text/html": [
       "<div>\n",
       "<style scoped>\n",
       "    .dataframe tbody tr th:only-of-type {\n",
       "        vertical-align: middle;\n",
       "    }\n",
       "\n",
       "    .dataframe tbody tr th {\n",
       "        vertical-align: top;\n",
       "    }\n",
       "\n",
       "    .dataframe thead th {\n",
       "        text-align: right;\n",
       "    }\n",
       "</style>\n",
       "<table border=\"1\" class=\"dataframe\">\n",
       "  <thead>\n",
       "    <tr style=\"text-align: right;\">\n",
       "      <th></th>\n",
       "      <th>age</th>\n",
       "      <th>income</th>\n",
       "      <th>student</th>\n",
       "      <th>credit_rating</th>\n",
       "      <th>buys_computer</th>\n",
       "    </tr>\n",
       "  </thead>\n",
       "  <tbody>\n",
       "    <tr>\n",
       "      <th>0</th>\n",
       "      <td>youth</td>\n",
       "      <td>high</td>\n",
       "      <td>no</td>\n",
       "      <td>fair</td>\n",
       "      <td>no</td>\n",
       "    </tr>\n",
       "    <tr>\n",
       "      <th>1</th>\n",
       "      <td>youth</td>\n",
       "      <td>high</td>\n",
       "      <td>no</td>\n",
       "      <td>excellent</td>\n",
       "      <td>no</td>\n",
       "    </tr>\n",
       "    <tr>\n",
       "      <th>2</th>\n",
       "      <td>middel_aged</td>\n",
       "      <td>high</td>\n",
       "      <td>no</td>\n",
       "      <td>fair</td>\n",
       "      <td>yes</td>\n",
       "    </tr>\n",
       "    <tr>\n",
       "      <th>3</th>\n",
       "      <td>senior</td>\n",
       "      <td>medium</td>\n",
       "      <td>no</td>\n",
       "      <td>fair</td>\n",
       "      <td>yes</td>\n",
       "    </tr>\n",
       "    <tr>\n",
       "      <th>4</th>\n",
       "      <td>senior</td>\n",
       "      <td>low</td>\n",
       "      <td>yes</td>\n",
       "      <td>fair</td>\n",
       "      <td>yes</td>\n",
       "    </tr>\n",
       "    <tr>\n",
       "      <th>5</th>\n",
       "      <td>senior</td>\n",
       "      <td>low</td>\n",
       "      <td>yes</td>\n",
       "      <td>excellent</td>\n",
       "      <td>no</td>\n",
       "    </tr>\n",
       "    <tr>\n",
       "      <th>6</th>\n",
       "      <td>middle_aged</td>\n",
       "      <td>low</td>\n",
       "      <td>yes</td>\n",
       "      <td>excellent</td>\n",
       "      <td>yes</td>\n",
       "    </tr>\n",
       "    <tr>\n",
       "      <th>7</th>\n",
       "      <td>youth</td>\n",
       "      <td>medium</td>\n",
       "      <td>no</td>\n",
       "      <td>fair</td>\n",
       "      <td>no</td>\n",
       "    </tr>\n",
       "    <tr>\n",
       "      <th>8</th>\n",
       "      <td>youth</td>\n",
       "      <td>low</td>\n",
       "      <td>yes</td>\n",
       "      <td>fair</td>\n",
       "      <td>yes</td>\n",
       "    </tr>\n",
       "    <tr>\n",
       "      <th>9</th>\n",
       "      <td>senior</td>\n",
       "      <td>medium</td>\n",
       "      <td>yes</td>\n",
       "      <td>fair</td>\n",
       "      <td>yes</td>\n",
       "    </tr>\n",
       "    <tr>\n",
       "      <th>10</th>\n",
       "      <td>youth</td>\n",
       "      <td>medium</td>\n",
       "      <td>yes</td>\n",
       "      <td>excellent</td>\n",
       "      <td>yes</td>\n",
       "    </tr>\n",
       "    <tr>\n",
       "      <th>11</th>\n",
       "      <td>middle_aged</td>\n",
       "      <td>medium</td>\n",
       "      <td>no</td>\n",
       "      <td>excellent</td>\n",
       "      <td>yes</td>\n",
       "    </tr>\n",
       "    <tr>\n",
       "      <th>12</th>\n",
       "      <td>middle_aged</td>\n",
       "      <td>high</td>\n",
       "      <td>yes</td>\n",
       "      <td>fair</td>\n",
       "      <td>yes</td>\n",
       "    </tr>\n",
       "    <tr>\n",
       "      <th>13</th>\n",
       "      <td>senior</td>\n",
       "      <td>medium</td>\n",
       "      <td>no</td>\n",
       "      <td>excellent</td>\n",
       "      <td>no</td>\n",
       "    </tr>\n",
       "  </tbody>\n",
       "</table>\n",
       "</div>"
      ],
      "text/plain": [
       "            age  income student credit_rating buys_computer\n",
       "0         youth    high      no          fair            no\n",
       "1         youth    high      no     excellent            no\n",
       "2   middel_aged    high      no          fair           yes\n",
       "3        senior  medium      no          fair           yes\n",
       "4        senior     low     yes          fair           yes\n",
       "5        senior     low     yes     excellent            no\n",
       "6   middle_aged     low     yes     excellent           yes\n",
       "7         youth  medium      no          fair            no\n",
       "8         youth     low     yes          fair           yes\n",
       "9        senior  medium     yes          fair           yes\n",
       "10        youth  medium     yes     excellent           yes\n",
       "11  middle_aged  medium      no     excellent           yes\n",
       "12  middle_aged    high     yes          fair           yes\n",
       "13       senior  medium      no     excellent            no"
      ]
     },
     "execution_count": 35,
     "metadata": {},
     "output_type": "execute_result"
    }
   ],
   "source": [
    "data=pd.read_csv('Book1.csv')\n",
    "data"
   ]
  },
  {
   "cell_type": "code",
   "execution_count": 36,
   "id": "84a7efb0",
   "metadata": {},
   "outputs": [],
   "source": [
    "# Calculate initial entropy\n",
    "def calculate_entropy(data):\n",
    "    class_counts = data.value_counts()\n",
    "    total_examples = len(data)\n",
    "    entropy = 0\n",
    "    for count in class_counts:\n",
    "        p = count / total_examples\n",
    "        entropy -= p * math.log2(p)\n",
    "    return entropy"
   ]
  },
  {
   "cell_type": "code",
   "execution_count": 37,
   "id": "7068a438",
   "metadata": {},
   "outputs": [
    {
     "name": "stdout",
     "output_type": "stream",
     "text": [
      "0.9402859586706311\n"
     ]
    }
   ],
   "source": [
    "initial_entropy = calculate_entropy(data[\"buys_computer\"])\n",
    "print(initial_entropy)"
   ]
  },
  {
   "cell_type": "code",
   "execution_count": 44,
   "id": "363844ea",
   "metadata": {},
   "outputs": [],
   "source": [
    "# Calculate Information Gain \n",
    "def calculate_information_gain(data, attribute, target_attribute):\n",
    "    info_gain = initial_entropy\n",
    "    info_divergence = 0\n",
    "    total_examples = len(data)\n",
    "    \n",
    "    for value in data[attribute].unique():\n",
    "        subset = data[data[attribute] == value]\n",
    "        subset_size = len(subset)\n",
    "        \n",
    "        subset_entropy = calculate_entropy(subset[target_attribute])\n",
    "        info_gain -= (subset_size / total_examples) * subset_entropy\n",
    "           \n",
    "    return info_gain\n"
   ]
  },
  {
   "cell_type": "code",
   "execution_count": 39,
   "id": "807cbf57",
   "metadata": {},
   "outputs": [],
   "source": [
    "# Calculate Information Gain and Information Divergence for each attribute\n",
    "target_attribute = \"buys_computer\"\n",
    "attributes = data.columns.drop(target_attribute)"
   ]
  },
  {
   "cell_type": "code",
   "execution_count": 40,
   "id": "d8f91776",
   "metadata": {},
   "outputs": [],
   "source": [
    "ig_values = {}\n"
   ]
  },
  {
   "cell_type": "code",
   "execution_count": 45,
   "id": "d7688cbf",
   "metadata": {},
   "outputs": [],
   "source": [
    "for attribute in attributes:\n",
    "    ig = calculate_information_gain(data, attribute, target_attribute)\n",
    "    ig_values[attribute] = ig\n",
    "   "
   ]
  },
  {
   "cell_type": "code",
   "execution_count": 46,
   "id": "e395b8b1",
   "metadata": {},
   "outputs": [
    {
     "name": "stdout",
     "output_type": "stream",
     "text": [
      "Information Gain:\n",
      "{'age': 0.24674981977443933, 'income': 0.02922256565895487, 'student': 0.15183550136234159, 'credit_rating': 0.048127030408269544}\n"
     ]
    }
   ],
   "source": [
    "# Print Information Gain and Information Divergence\n",
    "print(\"Information Gain:\")\n",
    "print(ig_values)\n"
   ]
  },
  {
   "cell_type": "code",
   "execution_count": null,
   "id": "7e35b4db",
   "metadata": {},
   "outputs": [],
   "source": []
  }
 ],
 "metadata": {
  "kernelspec": {
   "display_name": "Python 3 (ipykernel)",
   "language": "python",
   "name": "python3"
  },
  "language_info": {
   "codemirror_mode": {
    "name": "ipython",
    "version": 3
   },
   "file_extension": ".py",
   "mimetype": "text/x-python",
   "name": "python",
   "nbconvert_exporter": "python",
   "pygments_lexer": "ipython3",
   "version": "3.9.12"
  }
 },
 "nbformat": 4,
 "nbformat_minor": 5
}
