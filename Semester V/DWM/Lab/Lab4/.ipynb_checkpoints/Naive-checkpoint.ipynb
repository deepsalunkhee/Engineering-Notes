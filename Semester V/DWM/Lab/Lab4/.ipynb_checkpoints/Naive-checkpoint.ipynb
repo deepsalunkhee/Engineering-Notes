{
 "cells": [
  {
   "cell_type": "code",
   "execution_count": 49,
   "id": "5f9c2aa6",
   "metadata": {},
   "outputs": [],
   "source": [
    "import pandas as pd"
   ]
  },
  {
   "cell_type": "code",
   "execution_count": 50,
   "id": "0968535f",
   "metadata": {},
   "outputs": [
    {
     "data": {
      "text/html": [
       "<div>\n",
       "<style scoped>\n",
       "    .dataframe tbody tr th:only-of-type {\n",
       "        vertical-align: middle;\n",
       "    }\n",
       "\n",
       "    .dataframe tbody tr th {\n",
       "        vertical-align: top;\n",
       "    }\n",
       "\n",
       "    .dataframe thead th {\n",
       "        text-align: right;\n",
       "    }\n",
       "</style>\n",
       "<table border=\"1\" class=\"dataframe\">\n",
       "  <thead>\n",
       "    <tr style=\"text-align: right;\">\n",
       "      <th></th>\n",
       "      <th>age</th>\n",
       "      <th>income</th>\n",
       "      <th>student</th>\n",
       "      <th>credit_rating</th>\n",
       "      <th>buys_computer</th>\n",
       "    </tr>\n",
       "  </thead>\n",
       "  <tbody>\n",
       "    <tr>\n",
       "      <th>0</th>\n",
       "      <td>youth</td>\n",
       "      <td>high</td>\n",
       "      <td>no</td>\n",
       "      <td>fair</td>\n",
       "      <td>no</td>\n",
       "    </tr>\n",
       "    <tr>\n",
       "      <th>1</th>\n",
       "      <td>youth</td>\n",
       "      <td>high</td>\n",
       "      <td>no</td>\n",
       "      <td>excellent</td>\n",
       "      <td>no</td>\n",
       "    </tr>\n",
       "    <tr>\n",
       "      <th>2</th>\n",
       "      <td>middel_aged</td>\n",
       "      <td>high</td>\n",
       "      <td>no</td>\n",
       "      <td>fair</td>\n",
       "      <td>yes</td>\n",
       "    </tr>\n",
       "    <tr>\n",
       "      <th>3</th>\n",
       "      <td>senior</td>\n",
       "      <td>medium</td>\n",
       "      <td>no</td>\n",
       "      <td>fair</td>\n",
       "      <td>yes</td>\n",
       "    </tr>\n",
       "    <tr>\n",
       "      <th>4</th>\n",
       "      <td>senior</td>\n",
       "      <td>low</td>\n",
       "      <td>yes</td>\n",
       "      <td>fair</td>\n",
       "      <td>yes</td>\n",
       "    </tr>\n",
       "    <tr>\n",
       "      <th>5</th>\n",
       "      <td>senior</td>\n",
       "      <td>low</td>\n",
       "      <td>yes</td>\n",
       "      <td>excellent</td>\n",
       "      <td>no</td>\n",
       "    </tr>\n",
       "    <tr>\n",
       "      <th>6</th>\n",
       "      <td>middle_aged</td>\n",
       "      <td>low</td>\n",
       "      <td>yes</td>\n",
       "      <td>excellent</td>\n",
       "      <td>yes</td>\n",
       "    </tr>\n",
       "    <tr>\n",
       "      <th>7</th>\n",
       "      <td>youth</td>\n",
       "      <td>medium</td>\n",
       "      <td>no</td>\n",
       "      <td>fair</td>\n",
       "      <td>no</td>\n",
       "    </tr>\n",
       "    <tr>\n",
       "      <th>8</th>\n",
       "      <td>youth</td>\n",
       "      <td>low</td>\n",
       "      <td>yes</td>\n",
       "      <td>fair</td>\n",
       "      <td>yes</td>\n",
       "    </tr>\n",
       "    <tr>\n",
       "      <th>9</th>\n",
       "      <td>senior</td>\n",
       "      <td>medium</td>\n",
       "      <td>yes</td>\n",
       "      <td>fair</td>\n",
       "      <td>yes</td>\n",
       "    </tr>\n",
       "    <tr>\n",
       "      <th>10</th>\n",
       "      <td>youth</td>\n",
       "      <td>medium</td>\n",
       "      <td>yes</td>\n",
       "      <td>excellent</td>\n",
       "      <td>yes</td>\n",
       "    </tr>\n",
       "    <tr>\n",
       "      <th>11</th>\n",
       "      <td>middle_aged</td>\n",
       "      <td>medium</td>\n",
       "      <td>no</td>\n",
       "      <td>excellent</td>\n",
       "      <td>yes</td>\n",
       "    </tr>\n",
       "    <tr>\n",
       "      <th>12</th>\n",
       "      <td>middle_aged</td>\n",
       "      <td>high</td>\n",
       "      <td>yes</td>\n",
       "      <td>fair</td>\n",
       "      <td>yes</td>\n",
       "    </tr>\n",
       "    <tr>\n",
       "      <th>13</th>\n",
       "      <td>senior</td>\n",
       "      <td>medium</td>\n",
       "      <td>no</td>\n",
       "      <td>excellent</td>\n",
       "      <td>no</td>\n",
       "    </tr>\n",
       "  </tbody>\n",
       "</table>\n",
       "</div>"
      ],
      "text/plain": [
       "            age  income student credit_rating buys_computer\n",
       "0         youth    high      no          fair            no\n",
       "1         youth    high      no     excellent            no\n",
       "2   middel_aged    high      no          fair           yes\n",
       "3        senior  medium      no          fair           yes\n",
       "4        senior     low     yes          fair           yes\n",
       "5        senior     low     yes     excellent            no\n",
       "6   middle_aged     low     yes     excellent           yes\n",
       "7         youth  medium      no          fair            no\n",
       "8         youth     low     yes          fair           yes\n",
       "9        senior  medium     yes          fair           yes\n",
       "10        youth  medium     yes     excellent           yes\n",
       "11  middle_aged  medium      no     excellent           yes\n",
       "12  middle_aged    high     yes          fair           yes\n",
       "13       senior  medium      no     excellent            no"
      ]
     },
     "execution_count": 50,
     "metadata": {},
     "output_type": "execute_result"
    }
   ],
   "source": [
    "df = pd.read_csv('Book1.csv')\n",
    "df "
   ]
  },
  {
   "cell_type": "code",
   "execution_count": 51,
   "id": "13b66145",
   "metadata": {},
   "outputs": [
    {
     "data": {
      "text/plain": [
       "['age', 'income', 'student', 'credit_rating']"
      ]
     },
     "execution_count": 51,
     "metadata": {},
     "output_type": "execute_result"
    }
   ],
   "source": [
    "attrs = list(df.columns)[:-1]\n",
    "attrs"
   ]
  },
  {
   "cell_type": "code",
   "execution_count": 52,
   "id": "f3a5174d",
   "metadata": {},
   "outputs": [
    {
     "name": "stdout",
     "output_type": "stream",
     "text": [
      "Enter Unknown: \n",
      "age : youth\n",
      "income : medium\n",
      "student : yes\n",
      "credit_rating : fair\n"
     ]
    }
   ],
   "source": [
    "X = {}\n",
    "\n",
    "print('Enter Unknown: ')\n",
    "\n",
    "for attr in attrs:\n",
    "    X[attr] = input(f'{attr} : ')"
   ]
  },
  {
   "cell_type": "code",
   "execution_count": 53,
   "id": "1b8746bc",
   "metadata": {},
   "outputs": [
    {
     "data": {
      "text/plain": [
       "{'age': 'youth', 'income': 'medium', 'student': 'yes', 'credit_rating': 'fair'}"
      ]
     },
     "execution_count": 53,
     "metadata": {},
     "output_type": "execute_result"
    }
   ],
   "source": [
    "C_total = df['buys_computer'].count()\n",
    "C_total"
   ]
  },
  {
   "cell_type": "code",
   "execution_count": null,
   "id": "88789432",
   "metadata": {},
   "outputs": [],
   "source": [
    "prob_yes = C_yes / C_total\n",
    "prob_no = C_no / C_total\n"
   ]
  },
  {
   "cell_type": "code",
   "execution_count": null,
   "id": "e027f1d4",
   "metadata": {},
   "outputs": [],
   "source": [
    "ans = {}\n",
    "\n",
    "for res in df['buys_computer'].unique():\n",
    "    cnt_res = df['buys_computer'].value_counts()[res]\n",
    "    ans[res] = cnt_res / C_total\n",
    "    for key in X:\n",
    "        temp = len(df[(df[key] == X[key]) & (df['buys_computer'] == res)])\n",
    "        ans[res] *= (temp / cnt_res)\n",
    "        \n",
    "ans"
   ]
  },
  {
   "cell_type": "code",
   "execution_count": null,
   "id": "eb2c12f8",
   "metadata": {},
   "outputs": [],
   "source": []
  }
 ],
 "metadata": {
  "kernelspec": {
   "display_name": "Python 3 (ipykernel)",
   "language": "python",
   "name": "python3"
  },
  "language_info": {
   "codemirror_mode": {
    "name": "ipython",
    "version": 3
   },
   "file_extension": ".py",
   "mimetype": "text/x-python",
   "name": "python",
   "nbconvert_exporter": "python",
   "pygments_lexer": "ipython3",
   "version": "3.9.12"
  }
 },
 "nbformat": 4,
 "nbformat_minor": 5
}
